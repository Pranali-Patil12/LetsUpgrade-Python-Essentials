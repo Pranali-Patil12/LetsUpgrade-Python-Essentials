{
 "cells": [
  {
   "cell_type": "code",
   "execution_count": 3,
   "metadata": {},
   "outputs": [
    {
     "name": "stdout",
     "output_type": "stream",
     "text": [
      "The first armstrong number between 1042000 to 702648255 is 1741725\n"
     ]
    }
   ],
   "source": [
    "i=1042000\n",
    "while(i<702648265):\n",
    "    a=str(i)\n",
    "    order=(len(a))\n",
    "    sum1=0\n",
    "    for j in a:\n",
    "        sum1=sum1+(int(j)**order)\n",
    "    if(i == sum1):\n",
    "        print(\"The first armstrong number between 1042000 to 702648255 is\",i)\n",
    "        break\n",
    "    i=i+1"
   ]
  }
 ],
 "metadata": {
  "kernelspec": {
   "display_name": "Python 3",
   "language": "python",
   "name": "python3"
  },
  "language_info": {
   "codemirror_mode": {
    "name": "ipython",
    "version": 3
   },
   "file_extension": ".py",
   "mimetype": "text/x-python",
   "name": "python",
   "nbconvert_exporter": "python",
   "pygments_lexer": "ipython3",
   "version": "3.7.4"
  }
 },
 "nbformat": 4,
 "nbformat_minor": 2
}
